{
 "cells": [
  {
   "cell_type": "code",
   "execution_count": 3,
   "id": "b8a8e8e0",
   "metadata": {},
   "outputs": [],
   "source": [
    "import ocrmypdf"
   ]
  },
  {
   "cell_type": "code",
   "execution_count": 4,
   "id": "7afbf1a0",
   "metadata": {},
   "outputs": [
    {
     "name": "stderr",
     "output_type": "stream",
     "text": [
      "Scanning contents: 100%|███████████████████████████████████████████████████████████| 206/206 [00:09<00:00, 21.79page/s]\n",
      "OCR:  18%|████████████▋                                                         | 37.5/206.0 [00:45<03:40,  1.31s/page][tesseract] lots of diacritics - possibly poor OCR\n",
      "OCR:  42%|█████████████████████████████▍                                        | 86.5/206.0 [01:38<01:51,  1.07page/s][tesseract] lots of diacritics - possibly poor OCR\n",
      "OCR:  73%|██████████████████████████████████████████████████▍                  | 150.5/206.0 [02:52<01:11,  1.28s/page][tesseract] lots of diacritics - possibly poor OCR\n",
      "[tesseract] lots of diacritics - possibly poor OCR\n",
      "OCR:  93%|████████████████████████████████████████████████████████████████▍    | 192.5/206.0 [03:31<00:11,  1.21page/s][tesseract] lots of diacritics - possibly poor OCR\n",
      "OCR: 100%|█████████████████████████████████████████████████████████████████████| 206.0/206.0 [03:42<00:00,  1.08s/page]\n",
      "PDF/A conversion: 100%|████████████████████████████████████████████████████████████| 206/206 [00:52<00:00,  3.94page/s]\n",
      "Recompressing JPEGs: 0image [00:00, ?image/s]\n",
      "Deflating JPEGs: 100%|█████████████████████████████████████████████████████████████| 32/32 [00:00<00:00, 138.73image/s]\n",
      "JBIG2: 0item [00:00, ?item/s]\n",
      "The output file size is 28.59× larger than the input file.\n",
      "Possible reasons for this include:\n",
      "--force-ocr was issued, causing transcoding.\n",
      "The optional dependency 'jbig2' was not found, so some image optimizations could not be attempted.\n",
      "The optional dependency 'pngquant' was not found, so some image optimizations could not be attempted.\n",
      "PDF/A conversion was enabled. (Try `--output-type pdf`.)\n",
      "\n"
     ]
    }
   ],
   "source": [
    "def extract_nepali_text_from_pdf(input_pdf_path, output_pdf_path):\n",
    "    # Set OCR language to Nepali (nep)\n",
    "    ocr_language = 'nep'\n",
    "    # Perform OCR and extract Nepali text\n",
    "    if __name__ == '__main__':  # To ensure correct behavior on Windows and macOS\n",
    "        ocrmypdf.ocr(input_pdf_path, output_pdf_path, language=ocr_language,force_ocr= True)\n",
    "    # Read the extracted text from the output PDF\n",
    "#     with open(output_pdf_path + \".txt\", 'r', encoding='utf-8') as text_file:\n",
    "#         extracted_text = text_file.read()\n",
    "#     return extracted_text\n",
    "# Specify the input and output file paths\n",
    "input_pdf_path = 'Thesis.pdf'\n",
    "output_pdf_path = '-'\n",
    "\n",
    "# Extract Nepali text from the PDF\n",
    "extract_nepali_text_from_pdf(input_pdf_path, output_pdf_path)\n",
    "\n",
    "# Print the extracted text\n",
    "# print(extracted_text)\n"
   ]
  },
  {
   "cell_type": "code",
   "execution_count": 4,
   "id": "4fe96f77",
   "metadata": {},
   "outputs": [],
   "source": [
    "# import PyPDF2\n",
    "\n",
    "# def extract_text_from_pdf(pdf_path):\n",
    "#     text = ''\n",
    "\n",
    "#     # Open the PDF file in read binary mode\n",
    "#     with open(pdf_path, 'rb') as file:\n",
    "#         # Create a PDF reader object\n",
    "#         reader = PyPDF2.PdfReader(file)\n",
    "\n",
    "#         # Iterate through each page of the PDF\n",
    "#         for page in reader.pages:\n",
    "#             # Extract the text from the page and append it to the result\n",
    "#             text += page.extract_text()\n",
    "\n",
    "#     return text\n",
    "\n",
    "# def save_text_to_file(text, file_path):\n",
    "#     with open(file_path, 'w', encoding='utf-8') as file:\n",
    "#         file.write(text)\n",
    "\n",
    "# # Provide the path to your Nepali PDF file\n",
    "# pdf_path = 'Thesis.pdf'\n",
    "\n",
    "# # Extract text from the PDF\n",
    "# result = extract_text_from_pdf(pdf_path)\n",
    "\n",
    "# # Provide the path where you want to save the text file\n",
    "# txt_file_path = 'txt_thesis.txt'\n",
    "\n",
    "# # Save the extracted text to a TXT file\n",
    "# save_text_to_file(result, txt_file_path)\n",
    "\n",
    "# print(\"Text extracted and saved successfully!\")\n"
   ]
  },
  {
   "cell_type": "code",
   "execution_count": null,
   "id": "945a3f51",
   "metadata": {},
   "outputs": [
    {
     "name": "stderr",
     "output_type": "stream",
     "text": [
      "Scanning contents: 100%|███████████████████████████████████████████████████████████| 206/206 [00:26<00:00,  7.90page/s]\n",
      "OCR:   9%|██████▋                                                               | 19.5/206.0 [00:41<06:08,  1.98s/page]"
     ]
    }
   ],
   "source": [
    "import ocrmypdf\n",
    "from IPython.display import display, FileLink\n",
    "import tempfile\n",
    "\n",
    "def extract_nepali_text_from_pdf(input_pdf_path, output_pdf_path, output_text_path):\n",
    "    # Set OCR language to Nepali (nep)\n",
    "    ocr_language = 'nep'\n",
    "\n",
    "    # Perform OCR and extract Nepali text\n",
    "    with tempfile.NamedTemporaryFile(suffix=\".pdf\") as tmp_pdf_file:\n",
    "        ocrmypdf.ocr(input_pdf_path, tmp_pdf_file.name, language=ocr_language, force_ocr=True)\n",
    "        \n",
    "        # Rename the output PDF file\n",
    "        os.rename(tmp_pdf_file.name, output_pdf_path)\n",
    "        \n",
    "        # Generate the output text file\n",
    "        ocrmypdf.ocr(input_pdf_path, output_text_path, language=ocr_language, force_ocr=True)\n",
    "\n",
    "# Specify the input and output file paths\n",
    "input_pdf_path = 'Thesis.pdf'\n",
    "output_pdf_path = 'thesis_with_text.pdf'\n",
    "output_text_path = 'thesis_text.txt'\n",
    "\n",
    "# Extract Nepali text from the PDF\n",
    "extract_nepali_text_from_pdf(input_pdf_path, output_pdf_path, output_text_path)\n",
    "\n",
    "# Display the output PDF file link\n",
    "display(FileLink(output_pdf_path))\n",
    "\n",
    "# Display the output text file contents\n",
    "with open(output_text_path, 'r', encoding='utf-8') as text_file:\n",
    "    extracted_text = text_file.read()\n",
    "\n",
    "print(extracted_text)\n"
   ]
  }
 ],
 "metadata": {
  "kernelspec": {
   "display_name": "Python 3 (ipykernel)",
   "language": "python",
   "name": "python3"
  },
  "language_info": {
   "codemirror_mode": {
    "name": "ipython",
    "version": 3
   },
   "file_extension": ".py",
   "mimetype": "text/x-python",
   "name": "python",
   "nbconvert_exporter": "python",
   "pygments_lexer": "ipython3",
   "version": "3.11.4"
  }
 },
 "nbformat": 4,
 "nbformat_minor": 5
}
