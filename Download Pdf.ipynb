{
 "cells": [
  {
   "cell_type": "code",
   "execution_count": 14,
   "id": "6687ff84",
   "metadata": {
    "scrolled": true
   },
   "outputs": [
    {
     "name": "stdout",
     "output_type": "stream",
     "text": [
      "200\n",
      "['/handle/123456789/9525', '/handle/123456789/9597', '/handle/123456789/9520', '/handle/123456789/9678', '/handle/123456789/9595', '/handle/123456789/9009', '/handle/123456789/9300', '/handle/123456789/9932', '/handle/123456789/9785', '/handle/123456789/10010', '/handle/123456789/9714', '/handle/123456789/10136', '/handle/123456789/17720', '/handle/123456789/11695', '/handle/123456789/11970', '/handle/123456789/16819', '/handle/123456789/16805', '/handle/123456789/16706', '/handle/123456789/16802', '/handle/123456789/17258', '/handle/123456789/9156', '/handle/123456789/17419', '/handle/123456789/16746', '/handle/123456789/15758', '/handle/123456789/15789', '/handle/123456789/15691', '/handle/123456789/17252']\n",
      "['लीलबहादुर क्षेत्रीका उपन्यासमा सीमान्तीयता{Lilbahadur Kshetrika Upanyaasma Simantiyata}', 'ताप्लेजुङको फक्ताङलुङ क्षेत्रमा प्रचलित पालामको अध्ययन  {Taplejungko Phaktanglung KKshetrama Prachalit Palamko Adhyayan}', 'राजेन्द्र विमलका कथामा सीमान्तीयता {Rajendra Bimalka Kathama Simantiyata', 'तरुण तपसीमा प्रकृति चित्रण {Tarun Tapshima Prakriti Chitran}', 'गीता केशरीका उपन्यासमा लैङ्गिकता {Gita Kesharika Upanyasma Laingikta}', 'बैतडेली भाषिकामा क्रियापदको रूपायन {Baitadeli Bhashikama Kriyapadko Rupayan}', 'सातौ ऋतु उपन्यासमा प्रयोगशीलता {Satau Ritu Upanyasma Prayogshilta}', 'रमेश विकलका कथामा समाख्यानात्मक वाच्यत्व {Ramesh Bikalka Kathama Samakhyanatmak Bachyatwa}', 'थाम्सुहाङ पुष्प सुब्बाको उपन्यासकारिता {Thamsuhang Pushpa Subbako Upanyaskarita}', 'बैतडेली भाषिकामा व्याकरणात्मक कोटिको अध्ययन {Baitadeli Bhashikama Byakaranatmak Kotiko Adhyayan}', 'छेत्तेली भाषाको अध्ययन {The Study of Chhetli Language}', 'इन्द्रप्रसाद कटुवालको जीवनी, व्यक्तित्व र कृतित्वको अध्ययन {Indra Prasad Katuwal ko Jivani, Byaktitwo ra Kritiwo ko Adhyayan}', 'घनश्याम ढकालका कथामा पहिचान र प्रतिनिधित्व {Ghanshyam Dhakalka kathama pahichan ra pratinidhitwa}', 'आदर्श राघव महाकाव्यमा वेदान्तदर्शन {Aadarsha Raghav Mahakavyama Vedantadarshan}', 'दिल पौडेलको जीवनी, व्यक्तित्व र कृतित्व {Dil Poudelko Jeewani Byaktitwa ra Krititwa}', 'खगेन्द्र सङ्ग्रौलाका कथामा सीमान्तीयता {Khagendra Sangraulaka Kathama Simantiyata}', 'माधव घिमिरेका गीतिनाटकमा पूर्वीय दर्शन {Madhav Ghimireka Gitinatakama Purbiya Darshan}', 'माधव घिमिरेका कवितामा अलङ्कारविधान {Madhav Ghimireka Kabitama Aalankarbidhan}', 'माइतघर उपन्यासको सङ्कथनात्मक अर्थविश्लेषण {Maitaghar Upanyasko Sankathanatmak Arthabishleshan}', 'विश्वेश्वरप्रसाद कोइरालाका कथामा विश्वदृष्टि {Bishweshwarprasad Koiralaka kathama bishwadristi}', 'बसाइँ उपन्यासको सङ्कथन विश्लेषण{Basai Upanyasko Sankathan Vishleshan}', 'गणतन्त्रोतर नेपाली कवितामा लैङ्गिक सीमान्तीयता {Ganatantrotar nepali kabitama laingik simantiyeta}', 'नेपालको गण्डकी र भारतका दार्जिलिङ–असम क्षेत्रमा प्रचलित नेपाली लोककथाको तुलना {Nepalko Gandkee ra Bharatka Darjiling Asam Kshetrama Prachalit Nepali Lokkathako Tulana}', 'बारबर्दिया नगरपालिका क्षेत्रमा प्रचलित लोककथाका अध्ययन {Barbardiya Nagarpalika Kshetrama Prachalit Lokkathaka Adhyayan}', 'Challenges and Practices of Implementing English as a Medium of Instruction (EMI) in the Community Schools', 'अपर्णा उपन्यासमा मनोविश्लेषण {Aparṇa Upanyasama Manobislesaa}', 'हृदयचन्द्रसिंह प्रधानका उपन्यासमा विश्वदृष्टि {Hridayachandrasingh Pradhanka upanyasma bishwodrishti}']\n"
     ]
    }
   ],
   "source": [
    "import os\n",
    "import requests\n",
    "from bs4 import BeautifulSoup\n",
    "\n",
    "# URL of the website to scrape\n",
    "# url = 'https://elibrary.tucl.edu.np/handle/123456789/12/simple-search?location=123456789%2F12&query=&filter_field_1=instituteName&filter_type_1=equals&filter_value_1=Central+Department+of+Nepali&filter_field_2=dateIssued&filter_type_2=equals&filter_value_2=%5B2010+TO+2019%5D&filter_field_3=subject&filter_type_3=equals&filter_value_3=%E0%A4%A8%E0%A5%87%E0%A4%AA%E0%A4%BE%E0%A4%B2%E0%A5%80+%E0%A4%B8%E0%A4%BE%E0%A4%B9%E0%A4%BF%E0%A4%A4%E0%A5%8D%E0%A4%AF+Nepali+sahitya&rpp=100&sort_by=score&order=DESC&etal=0&submit_search=Update'\n",
    "# first_batch = 'https://elibrary.tucl.edu.np/handle/123456789/12/simple-search?query=&filter_field_1=instituteName&filter_type_1=equals&filter_value_1=Central+Department+of+Nepali&sort_by=dc.date.issued_dt&order=asc&rpp=100&etal=0&start=500'\n",
    "# second_batch = 'https://elibrary.tucl.edu.np/handle/123456789/12/simple-search?query=&filter_field_1=instituteName&filter_type_1=equals&filter_value_1=Central+Department+of+Nepali&sort_by=dc.date.issued_dt&order=asc&rpp=100&etal=0&start=600'\n",
    "# third_batch = 'https://elibrary.tucl.edu.np/handle/123456789/12/simple-search?query=&filter_field_1=instituteName&filter_type_1=equals&filter_value_1=Central+Department+of+Nepali&sort_by=dc.date.issued_dt&order=asc&rpp=100&etal=0&start=400'\n",
    "# fourth_batch = 'https://elibrary.tucl.edu.np/handle/123456789/12/simple-search?query=&filter_field_1=instituteName&filter_type_1=equals&filter_value_1=Central+Department+of+Nepali&sort_by=dc.date.issued_dt&order=asc&rpp=100&etal=0&start=300'\n",
    "url = 'https://elibrary.tucl.edu.np/handle/123456789/12/simple-search?query=&filter_field_1=instituteName&filter_type_1=equals&filter_value_1=Central+Department+of+Nepali&sort_by=dc.date.issued_dt&order=asc&rpp=100&etal=0&start=700'\n",
    "# Send a GET request to the URL\n",
    "r = requests.get(url)\n",
    "print(r.status_code)\n",
    "htmlContent = r.content\n",
    "\n",
    "soup= BeautifulSoup(htmlContent, 'html.parser')\n",
    "thesis_table = soup.find('table',class_ = \"table\")\n",
    "rows = thesis_table.find_all('td',headers= 't3')\n",
    "names = thesis_table.find_all('td',header= 't')\n",
    "links =[]\n",
    "names =[]\n",
    "for row in rows:\n",
    "    \n",
    "    a_link = row.find('a')\n",
    "    links.append(a_link['href'])\n",
    "    names.append(a_link.get_text())\n",
    "    \n",
    "print(links)\n",
    "print(names)\n",
    "\n",
    "\n",
    "\n",
    "# print(thesis_table)\n",
    "\n",
    "# for row in thesis_table.find_all('td',class_ = 't3'):\n",
    "#     print(row)\n",
    "\n",
    "# print(row)\n",
    "# for row in rows:\n",
    "#     td = row.find_all('td',class_ = 't3')\n",
    "  \n",
    "# for thesis in thesis_table.find_all('tbody'):\n",
    "#     rows = thesis.find_all('tr')\n",
    "#     for row in rows:"
   ]
  },
  {
   "cell_type": "code",
   "execution_count": null,
   "id": "336dd837",
   "metadata": {},
   "outputs": [],
   "source": []
  },
  {
   "cell_type": "code",
   "execution_count": 8,
   "id": "80134f1e",
   "metadata": {},
   "outputs": [
    {
     "data": {
      "text/plain": [
       "'https://elibrary.tucl.edu.np//handle/123456789/13620'"
      ]
     },
     "execution_count": 8,
     "metadata": {},
     "output_type": "execute_result"
    }
   ],
   "source": [
    "base_url = 'https://elibrary.tucl.edu.np'\n",
    "# links =['/handle/123456789/13620','/handle/123456789/13575','/handle/123456789/13282']\n",
    "# print(len(links))\n",
    "'https://elibrary.tucl.edu.np//handle/123456789/13620'"
   ]
  },
  {
   "cell_type": "code",
   "execution_count": 15,
   "id": "bd5bd68a",
   "metadata": {
    "scrolled": true
   },
   "outputs": [
    {
     "name": "stdout",
     "output_type": "stream",
     "text": [
      "0 file downloaded successfully.\n",
      "1 file downloaded successfully.\n",
      "2 file downloaded successfully.\n",
      "3 file downloaded successfully.\n",
      "4 file downloaded successfully.\n",
      "5 file downloaded successfully.\n",
      "6 file downloaded successfully.\n",
      "7 file downloaded successfully.\n",
      "8 file downloaded successfully.\n",
      "9 file downloaded successfully.\n",
      "10 file downloaded successfully.\n",
      "11 file downloaded successfully.\n",
      "12 file downloaded successfully.\n",
      "13 file downloaded successfully.\n",
      "14 file downloaded successfully.\n",
      "15 file downloaded successfully.\n",
      "16 file downloaded successfully.\n",
      "17 file downloaded successfully.\n",
      "18 file downloaded successfully.\n",
      "19 file downloaded successfully.\n",
      "20 file downloaded successfully.\n",
      "21 file downloaded successfully.\n",
      "22 file downloaded successfully.\n",
      "23 file downloaded successfully.\n",
      "24 file downloaded successfully.\n",
      "25 file downloaded successfully.\n",
      "26 file downloaded successfully.\n"
     ]
    }
   ],
   "source": [
    "for i in range(len(links)):\n",
    "    pdf_link = base_url+links[i]\n",
    "    r1  = requests.get(pdf_link)\n",
    "    soup1 = BeautifulSoup(r1.content,'html.parser')\n",
    "    header_div = soup1.find('div',class_ =\"panel panel-info\")\n",
    "    table_pdf = header_div.find('table')\n",
    "    count = len(table_pdf.find_all('tr'))\n",
    "    rows = table_pdf.find_all('td',headers = 't1')\n",
    "#     file_ext = table.find_all('td',headers = 't4')\n",
    "    thesis_link = rows[-1].find('a')\n",
    "    file_ext = table_pdf.find_all('td',headers='t4')\n",
    "  #print(thesis_link)\n",
    "    pdf_file = file_ext[-1].get_text()\n",
    "    pdf_url = base_url+thesis_link['href']\n",
    "    pdf_name = names[i]\n",
    "    \n",
    "    pdf_downloader(pdf_url,pdf_name,i,pdf_file)\n",
    "# response = requests.get(pdf_url)/\n",
    "\n",
    "# if response.status_code == 200:\n",
    "#     # Save the PDF file\n",
    "#     with open('downloaded_file.pdf', 'wb') as file:\n",
    "#         file.write(response.content)\n",
    "#         print(\"PDF file downloaded successfully.\")\n",
    "# else:\n",
    "#     print(\"Failed to download the PDF file.\")\n"
   ]
  },
  {
   "cell_type": "code",
   "execution_count": 3,
   "id": "4a809fe7",
   "metadata": {},
   "outputs": [],
   "source": [
    "\n",
    "# Send a GET request to download the PDF file\n",
    "def pdf_downloader(pdf_url,pdf_name,i,file_ext):\n",
    "    response = requests.get(pdf_url)\n",
    "    # Check if the request was successful\n",
    "    if response.status_code == 200:\n",
    "        # Save the PDF file\n",
    "        if(file_ext == 'Adobe PDF'):\n",
    "            try:\n",
    "                with open(f'thesis/{pdf_name}.pdf', 'wb') as file:\n",
    "                    file.write(response.content)\n",
    "                    print(f'{i} file downloaded successfully.')\n",
    "            except FileNotFoundError:\n",
    "                # Handle the FileNotFoundError\n",
    "                print(f'File not found. Please check the file path.{i}'\n",
    "                     )\n",
    "            except Exception as e:\n",
    "                print(\"An error occurred:\", str(e))\n",
    "        else:\n",
    "            print(\"Pdf is not downloading\")"
   ]
  },
  {
   "cell_type": "code",
   "execution_count": 33,
   "id": "edb46465",
   "metadata": {},
   "outputs": [
    {
     "name": "stdout",
     "output_type": "stream",
     "text": [
      "51 file downloaded successfully.\n"
     ]
    }
   ],
   "source": [
    "# pdf_downloader('https://elibrary.tucl.edu.np/handle/123456789/15456','me',51)"
   ]
  },
  {
   "cell_type": "code",
   "execution_count": 24,
   "id": "b05c5b87",
   "metadata": {},
   "outputs": [
    {
     "name": "stdout",
     "output_type": "stream",
     "text": [
      "write sucessfully\n"
     ]
    }
   ],
   "source": [
    "# tetx  = \"Hello from folder inside\"\n",
    "# title = 'me'\n",
    "\n",
    "# with open(f'thesis/{title}.txt','w') as f:\n",
    "#     f.write(tetx)\n",
    "#     print(\"write sucessfully\")"
   ]
  },
  {
   "cell_type": "code",
   "execution_count": 38,
   "id": "fe345094",
   "metadata": {},
   "outputs": [
    {
     "name": "stdout",
     "output_type": "stream",
     "text": [
      "Adobe PDF\n"
     ]
    }
   ],
   "source": [
    "r1 = requests.get('https://elibrary.tucl.edu.np//handle/123456789/13575')\n",
    "soup1 = BeautifulSoup(r1.content,'html.parser')\n",
    "header_div = soup1.find('div',class_ =\"panel panel-info\")\n",
    "table_pdf = header_div.find('table')\n",
    "count = len(table_pdf.find_all('tr'))\n",
    "rows = table_pdf.find_all('td',headers = 't1')\n",
    "file_ext = table_pdf.find_all('td',headers='t4')\n",
    "# print(rows[-1])\n",
    "print(file_ext[-1].get_text())\n"
   ]
  },
  {
   "cell_type": "code",
   "execution_count": null,
   "id": "6a3bdb44",
   "metadata": {},
   "outputs": [],
   "source": []
  }
 ],
 "metadata": {
  "kernelspec": {
   "display_name": "Python 3 (ipykernel)",
   "language": "python",
   "name": "python3"
  },
  "language_info": {
   "codemirror_mode": {
    "name": "ipython",
    "version": 3
   },
   "file_extension": ".py",
   "mimetype": "text/x-python",
   "name": "python",
   "nbconvert_exporter": "python",
   "pygments_lexer": "ipython3",
   "version": "3.11.4"
  }
 },
 "nbformat": 4,
 "nbformat_minor": 5
}
