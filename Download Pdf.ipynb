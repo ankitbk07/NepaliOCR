{
 "cells": [
  {
   "cell_type": "code",
   "execution_count": 27,
   "id": "6687ff84",
   "metadata": {
    "scrolled": true
   },
   "outputs": [
    {
     "name": "stdout",
     "output_type": "stream",
     "text": [
      "200\n",
      "['/handle/123456789/13525', '/handle/123456789/13533', '/handle/123456789/13549', '/handle/123456789/13604', '/handle/123456789/13594', '/handle/123456789/13601', '/handle/123456789/13575', '/handle/123456789/13553', '/handle/123456789/13617', '/handle/123456789/15073', '/handle/123456789/15163', '/handle/123456789/15312', '/handle/123456789/11318', '/handle/123456789/10750', '/handle/123456789/13567', '/handle/123456789/13105', '/handle/123456789/14957', '/handle/123456789/14792', '/handle/123456789/14954', '/handle/123456789/13566', '/handle/123456789/13573', '/handle/123456789/15237', '/handle/123456789/15080', '/handle/123456789/15095', '/handle/123456789/15090', '/handle/123456789/16018', '/handle/123456789/11315', '/handle/123456789/10773', '/handle/123456789/11092', '/handle/123456789/11099', '/handle/123456789/11090', '/handle/123456789/11105', '/handle/123456789/9459', '/handle/123456789/9526', '/handle/123456789/9492', '/handle/123456789/14908', '/handle/123456789/15103', '/handle/123456789/15078', '/handle/123456789/15171', '/handle/123456789/15234', '/handle/123456789/15317', '/handle/123456789/15159', '/handle/123456789/15134', '/handle/123456789/15100', '/handle/123456789/15155', '/handle/123456789/16056', '/handle/123456789/16062', '/handle/123456789/16052', '/handle/123456789/16029', '/handle/123456789/16060', '/handle/123456789/16020', '/handle/123456789/15456', '/handle/123456789/16065', '/handle/123456789/15668', '/handle/123456789/15661', '/handle/123456789/15577', '/handle/123456789/15151', '/handle/123456789/15140', '/handle/123456789/15144', '/handle/123456789/15588', '/handle/123456789/10402', '/handle/123456789/10447', '/handle/123456789/7773', '/handle/123456789/10883', '/handle/123456789/10901', '/handle/123456789/10888', '/handle/123456789/10675', '/handle/123456789/10677', '/handle/123456789/11085', '/handle/123456789/11371', '/handle/123456789/11382', '/handle/123456789/11380', '/handle/123456789/11609', '/handle/123456789/12114', '/handle/123456789/12136', '/handle/123456789/12097', '/handle/123456789/9726', '/handle/123456789/10009', '/handle/123456789/9951', '/handle/123456789/9813', '/handle/123456789/10179', '/handle/123456789/10168', '/handle/123456789/10186', '/handle/123456789/10064', '/handle/123456789/10087', '/handle/123456789/10176', '/handle/123456789/14828', '/handle/123456789/16259', '/handle/123456789/16900', '/handle/123456789/16895', '/handle/123456789/16899', '/handle/123456789/15908', '/handle/123456789/15262', '/handle/123456789/15441', '/handle/123456789/15458', '/handle/123456789/15335', '/handle/123456789/15913', '/handle/123456789/15919', '/handle/123456789/15868', '/handle/123456789/15845']\n",
      "['गोविन्द बहादुर मल्ल गोठालेको बाह्र कथा कथासङग्रहको कृतिपरक अध्ययन {Gobinda Bahadur Malla Gohaleko Barha Katha Kathasangrahko Kritiparak Adhyayan }', 'भानु सेवा समितिको योगदान {Bhanu Sewa Samitiko Yogdan}', \"‘मोदिआइन’ उपन्यासमा मिथकीय प्रयोग {'Modiaaen' Upnyasma Mithakiya Prayog}\", 'सिरहा जिल्लाको लालपुर गा.वि.स.का मुसहर जातिका लोक गीतहरूको अध्ययन {Siraha Jillako Lalpur Ga.Bi.Sa. ka Musahar Jatika Lok Geetharuko Adhyayan}', 'नेपाली नाटय परम्परा र भीमनिधि तिवारीको सहनशीला सुशीला नाटकको अध्ययन {Nepali Natya Parampara ra Bhimnidhi Tiwariko Sahanshila Sushila Natakko Adhyayan}', 'सम्बन्ध कथा सङग्रहको विधातात्विक अध्ययन {Sambandha Katha Sangrahko Bidhatatwik Adhyayan}', \"‘प्रह्लाद’ नाटकमा पात्र विधान {'Prahlad Natakma Patra Bidhan}\", 'घाम घाम जस्तो छैन कथासङग्रहको कृतिपरक अध्ययन {Gham Gham Jasto Chhaina Kathasangrahko Kritiparak Adhyayan }', 'भवानी भिक्षुका नारीपात्र {Bhabani  Bhikshuka Naripatra}', 'हाँडीघोप्टको जीतबाजी कथासङग्रहको विधातात्विक अध्ययन {Handighopṭako Jitabaji Kathasanagrahako Bidhatatwik Adhyayana}', 'साहित्यकार नवराज लम्सालको जीवनी, व्यक्तित्व र कृतित्व {Sahityakar Navraj Lamsalko Jeewani, Byaktitwa ra Krititwa}', '“बमको छिर्का” कथा सङग्रहको विधातात्विक अध्ययन{Bamko Chhirka Katha Sangrahko Bidhatatwik Adhyayan}', 'इन्साफ उपन्यासका विधातात्विक अध्ययन {Insapha Upanaska Bidhatatwik Adhyayan}', 'एक चिहान उपन्यासमा क्षण जाति र पर्यावरण {Ek Chihan Upanyasma Kshan Jati ra Paryawaran}', 'आलोपालो उपन्यासको विधातात्विक अध्ययन {Aalopalo Upanyasko Bidhatatwik Adhyayan}', \"नेपाली साहित्यमा ‘प्रहरी’ पत्रिकाको योगदान(२०४६–२०६८){Nepali Sahityama'Prahari' Patrikako Yogadan(2046-2068)}\", 'अलिखित उपन्यासको सांस्कृतिक अध्ययन { Aalikhit Upanyaasko Saanskritik Adhyayan}', 'स्नेह सायमिको जीवनी, व्यक्तित्व र कृतित्वको अध्ययन{ Sneha Sayamiko Jeewani, Byaktitwa ra Krititwako Adhyayan}', 'गोठालेका कथामा प्रतीक विधान {Gothaleka Kathama Prateek Bidhan}', \"'एक चिहान’ उपन्यासमा क्षण,जाति र पर्यावरण {'Ek Chihan' Upanyasama Kshan, Jati ra Paryabaran}\", \"‘सनत रेग्मीका प्रतिनिधि कथा’ कथासङग्रहकोे विधातात्विक अध्ययन {'Sanat Regmika Pratinidhi Katha' Kathasangrahko Bidhatatwik Adhyayan}\", 'नेपाली लोक साहित्यको अध्ययनमा जीवेन्द्र देव गिरीको योगदान { Nepali Lok Sahityako Adhyayanma Jivendra Dew Giriko Yogdan}', 'पापिनी आमा खण्डकाव्यमा रसविधान {Papini Aama Khaṇḍakavyama Rasabidhan}', 'पचास (२०५०–२०५९) को दशकका नेपाली नाटकको सर्वेक्षण', 'Large Mixed ELT Classes and The Challenges Faced by Teachers', 'सल्यानी लोकगीतको सङ्कलन, वर्गीकरण र विश्लेषण {Salyani Lokagitako Sankalan, Bargikaran ra viślēṣaṇa}', 'उमा गुरुङको जीवनी, व्यक्तित्व र कृतित्व', 'गुल्मी जिल्लाको मुसिकोट क्षेत्रमा प्रचलित लोकभजनहरूको सङ्कलन तथा विश्लेषण{Gulmi Jillako Musikoṭ Kshetrama Pracalita Lokabhajanaharuko Sankalana Tatha Bislesan}', 'गुल्मी धुर्काेट क्षेत्रमा प्रचलित लोकगीतको अध्ययन {Gulmi Dhurkot Kshetrama Prachalit Lokgeetko Adhyayan}', 'उपसंहार अर्थात् चौथो अन्त्य उपन्यासमा पात्रविधान {Upasanhar arthat Chautho Antya Upanyasma Patrabidhan}', 'मोहनहिमांशु थापाको समालोचनाकारिता {Mohanhimanshu Thapako Samalochanakarita}', 'वीरकालीन कवितामा युगीन प्रभाव {Birkalin Kabitama Yugin Prabhaw}', 'बलदेव अधिकारी गाउँलको निबन्धकारिता{Baldev Adhikari Village Essay Writer}', 'बालकृष्ण समका एकाङकीयमा द्वन्द्वविधान{Balkirshna samka ekanakiyama  daondhavidhana}', 'युवराज मैनालीको जीवनी, व्यक्तित्व र कृतित्व{Yuvaraj mainaliko jivani, vyaktitva ra kr̥titva}', 'बखतबहादुर थापाको उपन्यासकारिता {Bakhatbahadur Thapako Upanyaskarita}', 'शाकुन्तल महाकाव्यमा रसविधान {Shakuntal Mahakavyama Rasvidhan }', 'देवकुमारी थापाका कथामा सामाजिकता {Devkumari Thapaka Kathama Samajikta}', '‘कान्तिपुर’ पत्रिकाका भाषिक त्रुटिहरू {Kantipur Ptrikaka Bhashik Trutiharu}', 'हिराधन राईको जीवनी, व्यक्तित्व र कृतित्व { Hiradhan Raiko Jeewani, Byaktitwa ra Krititwa}', 'प्रभा भट्टराईको जीवनी, व्यक्तित्व र कृतित्वको अध्ययन ( Prabha Bhattraiko Jeewani, Byktitwa ra Krititwako Adhyayan', 'अछामी डेउडा गीतमा समाज र संस्कृति {Achhami Deuda Geetma Samaj ra Sanskriti }', 'बर्दिया जिल्लाका उपन्यासका अध्ययन {Bardiya Jillaka Upanyaska Adhyayan}', 'फेदाप क्षेत्रका प्रचलित लोककथाहरूको सङकलन, वर्गीकरण र विश्लेषण {Phedap Kshetraka Prachalit Lokkathaharuko Sankalan, Bargikaran ra Bishlesan}', 'ज्याक्सन हाइट कथा सङग्रहको कृतिपरक विश्लेषण  Jyaksan Hight Katha Sangrahko Kritiparak Bisleshan}', 'सिन्धुली जिल्लाका कक्षा आठमा अध्ययनरत विद्यार्थीहरूको अनुच्छेद लेखन क्षमताको अध्ययन {Sindhuli Jillaka Kaksha Athama Adhyayanarata Bidyarthiharuko Anuccheda Lekhana Kshamatako Adhyayana}', 'गौरी खण्डकाव्यमा वर्णविन्यास वक्रता {Gauree Khandakabyama barnabinyas bakrata}', 'ललितपुर जिल्लाका कक्षा नौमा अध्ययनरत विद्यार्थीहरूको वाक्यगठन क्षमताको अध्ययन {Lalitapura Jillaka Kaksha Nauma Adhyayanarata Bidyarthiharuko Bakyagaṭhan Kshamatako Adhyayana}', 'कक्षा दशमा अध्ययनरत विद्यार्थीहरूको कथा लेखन क्षमताको अध्ययन {Kakṣha Dashama Adhyayanarata Bidyarthiharuko Katha Lekhana Kshamatāko Adhyayan}', 'ध्रुवचन्द्र गौतमका नाटकमा प्रयोगशीलता {Dhrubacandra Gautamaka Natakama Prayogasilata}', 'पाठ्यक्रम अनुरूपताका आधारमा कक्षा चारको हमर मैथिली पोथीको अध्ययन {Pathyakram Anurupataka Aadharma Kashya Charko Hamar Maithili Pothiko Adhyayan}', '‘आलुप्याज/प्याजआलु’ कथासङ्ग्रहको विधातात्विक विश्लेषण {Aalupyaj / Pyajaalu Kathasangrahako Bidhatatwik Bisleshan}', 'मोरङ जिल्लाका कक्षा पाँचमा अध्यनरत धिमाल भाषी विद्यार्थीहरूको शब्दभण्डार क्षमताको अध्ययन {Morang Jillaka Kakshya Panchma Adhyayanrat Dhimal Bhashi Bidyarthiharuko Shabdbhandar Kshamatako Adhyan}', 'नेपाली र मैथिली क्रियाका काल र पक्षको तुलनात्मक अध्ययन {Nepali ra Maithili Kriyaka Kaal ra Pakshyako Tulanatmak Adhyayan}', 'गीता खत्रीको जीवनी,व्यक्तित्व र कृतित्व {Geeta Khatriko Jeewani, Byaktitwo ra Krititwo}', \"माधव भँडारीको ‘आमाको आकांक्षा’ नाटकको कृतिपरक अध्ययन {Madhav Bhandariko 'Aamako Aakanchha' Natakko Kritiparak Adhyayan}\", 'हरिहर शास्त्रीको काव्ययात्रा तथा प्रवृत्ति {Harihar Shastriko Kavyayatra tatha Pravriti}', '‘शाकुन्तल’ महाकाव्यको परिवेश विधान {Shakuntal Mahakavyako Parivesh Bidhan}', 'नेपाली उखानमा लैङगिकता { Nepali Ukhanma Langikta}', 'उमा गुरुङको जीवनी, व्यक्तित्व र कृतित्व {Uma Gurungko Jeewani, Byaktitwa ra Krititwa}', 'बालकृष्ण समका ऐतिहासिक नाटकमा राष्ट्रप्रेम {Balakrishna Samaka Aitihasika Naṭakama Raṣṭraprem}', 'मेलम्ची क्षेत्रमा प्रचलित लोकगीतहरूको अध्ययन {Melamchi Kshetrama Prachalit Lokgeetharuko Adhyayan}', 'डोटी क्षेत्रमा प्रचलित लोककथाको संरचना {Structure of Folklore Prevalent in Doti Area}', 'हरिबहादुर श्रेष्ठका कथाकारिता  {Hari Bhahadur Shresthaka Kathkarita}', 'बखतबहादुुर थापाको कथाकारिता {Bakhatbahadur Thapako Kathkarita}', 'ऋतुविचार खण्डकाव्यमा सामाजिकता {Ritubichar Khandakavyama Samajikata}', \"‘गृहप्रवेश’ उपन्यासको कृतिपरक अध्ययन {'Grihaprabesh Upnyasko Kritiparak Adhyayan}\", 'प्रलेस पत्रिकामा प्रकाशित कथाहरूको अध्ययन {Prales Patrikama Prakashi Kathaharuko Adhyayan}', 'गोविन्द गिरी प्रेरणाको काव्यकारिता {Govind Giri Preranako Kavyakarita}', 'धादिङ जिल्लाका काव्यकार र तिनका कृतिको अध्ययन {Dhading Jillaka Kavyakar ra Tinaka Kritiko Adhyayan}', 'सुलोचना महाकाव्यमा पूर्वीय दर्शन {Sulochana Mahakavyama Purviya Darsan}', 'पीताम्बर नेपालीको जीवनी, व्यक्तित्व र कृतित्व {Pitamber Nepaliko Jibani, Byaktitowo ra Krititwo}', 'राजुबाबु श्रेष्ठको कथाकारिता {Rajubabu Shresthako Kathakarita}', 'तिम्री स्वास्नी र म कथा सङ्ग्रहको शैलीवैज्ञानिक अध्ययन {Timri Swasni ra Ma Katha Sangrahako Shaileebaigyanik Adhyayan}', 'गुलाब खेतानको जीवनी, व्यक्तित्व र कृतित्व {Gulab Khetanko Jeewani Byaktitwa ra Krititwa}', 'लैनसिंह बाङ्देलका उपन्यासमा परिवेश विधान {Lainsingh bangdelka Upanyasma Parivesh Bidhan}', 'श्यामलका कवितामा अभिव्यञ्जित ध्वन्याथ Syamalaka kavitama abhivyanjita dhvanyatha', 'शार्दूल भट्टराईको जीवनी,व्यक्तित्व र कृतित्वको अध्ययन {Shardul Bhattarai Jeewani, Byaktitwa ra Krititwako Adhyayan}', 'भानुभक्तीय रामायणमा अद्वैत वेदान्तदर्शन {Bhanubhaktiya Ramayanma Adwaita Bedantdarshan}', 'कुञ्जिनी खण्डकाव्यमा स्वच्छन्दतावाद{ Kunjini Khandakavya Swachchhandatawad}', 'नवराज सुब्बाको काव्यकारिता {Navaraj Subbako Kabyakarita}', 'आत्माराम शर्माको जीवनी व्यक्तित्व र कृतित्व {Atmaram Sharmako Jeewani Byaktitwa ra Krititwa}', 'उपल्लो आँधीखोला क्षेत्रमा प्रचलित लोकगीतको अध्ययन {Upallo Andhikhola Kshetrama Prachalit Lokgeetko Adhyayan}', 'विजय मल्लका तेस्रो चरणका एकाङ्कीमा समाजमनोविज्ञान {Bijaya Mallaka Tesro Charanka Ekankima Samajmanobigyan}', 'भीमसेनका अन्त्य नाटकमा परिवेश विधान {Bhimsenka Antya Natakma Pariwesh Bidhan}', 'उत्तमकृष्ण मजगैयाँका कविता कृतिको अध्ययन {Uttamkrishna Majgaiyanka Kabita Kritiko Adhyayan}', 'सिर्जनाका सुनाखरी (कविता सङग्रह) Srijanaka Sunkhari (Kabita Sangraha)', 'मेदिनीनाथ सुवेदीको काव्यकारिता {Medininath Subediko Kavyakarita}', 'भिक्टर प्रधानको समालोचनाकारिता { Victar Pradhanko Samalochanakarita }', 'ऋषिराज बरालका उपन्यासमा पात्रविधान { Rishiraj Baralka Upanyasma Patrabidhan}', 'तारिणी प्रसाद कोइरालाको फालिएको सामान उपन्यासमा मनोविश्लेषण { Tarini Prasad Koiralako Phaliyako Saman Upanyasma Manobishleshan }', 'राजेश्वर देवकोटाका उपन्यासमा पात्रविधान {Rajeshwor Devkotaka Upanyasma Patrabidhan}', 'जितेन्द्र महत अभिलाषीको जीवनी, व्यक्तित्व र कृतित्व {Jitendra Mahat Abhilashiko Jeewani,Bektitwa ra Krititwa}', 'सप्तरी जिल्लाको धनगढी गाउँ विकास समितिको थारू लोक नाटकको अध्ययन { Saptari Jillako Dhangadi Goun Bikash Samitiko Tharu Lok Natakko Adhyayan}', 'माधवी उपन्यासमा वस्तुविधान {Madhabi Upanyasma Bastubidhan}', 'लेखनाथ ज्ञवालीको जीवनी, व्यक्तित्व र कृतित्वको अध्ययन { Lekhnath Gyawaliko Jeewani, Byaktitwa ra Krititwako Adhyayan}', 'हृदयचन्द्रसिंह प्रधानका उपन्यासमा नारीवाद {Hridayachandrasingh Pradhanka Upanyasma Naribad}', 'माधवी उपन्यासमा सांस्कृतिक अध्ययन {Madhavi Upanyasma Saskritik Adhyayan}', 'इस्मालोका कथामा सीमान्तीयता {Esmaloko Kathama Shimantiyata}', 'एउटा बूढो भ्वाइलेन: आशावरीको धुनमा सङग्रहका कथामा पात्रविधान {Euta Budho Violin: Aashabariko Dhunma Sangrahaka Kathama Patrabidhan}']\n"
     ]
    }
   ],
   "source": [
    "import os\n",
    "import requests\n",
    "from bs4 import BeautifulSoup\n",
    "\n",
    "# URL of the website to scrape\n",
    "# url = 'https://elibrary.tucl.edu.np/handle/123456789/12/simple-search?location=123456789%2F12&query=&filter_field_1=instituteName&filter_type_1=equals&filter_value_1=Central+Department+of+Nepali&filter_field_2=dateIssued&filter_type_2=equals&filter_value_2=%5B2010+TO+2019%5D&filter_field_3=subject&filter_type_3=equals&filter_value_3=%E0%A4%A8%E0%A5%87%E0%A4%AA%E0%A4%BE%E0%A4%B2%E0%A5%80+%E0%A4%B8%E0%A4%BE%E0%A4%B9%E0%A4%BF%E0%A4%A4%E0%A5%8D%E0%A4%AF+Nepali+sahitya&rpp=100&sort_by=score&order=DESC&etal=0&submit_search=Update'\n",
    "url = 'https://elibrary.tucl.edu.np/handle/123456789/12/simple-search?query=&filter_field_1=instituteName&filter_type_1=equals&filter_value_1=Central+Department+of+Nepali&sort_by=dc.date.issued_dt&order=asc&rpp=100&etal=0&start=500'\n",
    "# Send a GET request to the URL\n",
    "r = requests.get(url)\n",
    "print(r.status_code)\n",
    "htmlContent = r.content\n",
    "\n",
    "soup= BeautifulSoup(htmlContent, 'html.parser')\n",
    "thesis_table = soup.find('table',class_ = \"table\")\n",
    "rows = thesis_table.find_all('td',headers= 't3')\n",
    "names = thesis_table.find_all('td',header= 't')\n",
    "links =[]\n",
    "names =[]\n",
    "for row in rows:\n",
    "    a_link = row.find('a')\n",
    "    links.append(a_link['href'])\n",
    "    names.append(a_link.get_text())\n",
    "    \n",
    "print(links)\n",
    "print(names)\n",
    "\n",
    "\n",
    "\n",
    "# print(thesis_table)\n",
    "\n",
    "# for row in thesis_table.find_all('td',class_ = 't3'):\n",
    "#     print(row)\n",
    "\n",
    "# print(row)\n",
    "# for row in rows:\n",
    "#     td = row.find_all('td',class_ = 't3')\n",
    "  \n",
    "# for thesis in thesis_table.find_all('tbody'):\n",
    "#     rows = thesis.find_all('tr')\n",
    "#     for row in rows:"
   ]
  },
  {
   "cell_type": "code",
   "execution_count": 28,
   "id": "80134f1e",
   "metadata": {},
   "outputs": [
    {
     "data": {
      "text/plain": [
       "'https://elibrary.tucl.edu.np//handle/123456789/13620'"
      ]
     },
     "execution_count": 28,
     "metadata": {},
     "output_type": "execute_result"
    }
   ],
   "source": [
    "base_url = 'https://elibrary.tucl.edu.np'\n",
    "# links =['/handle/123456789/13620','/handle/123456789/13575','/handle/123456789/13282']\n",
    "# print(len(links))\n",
    "'https://elibrary.tucl.edu.np//handle/123456789/13620'"
   ]
  },
  {
   "cell_type": "code",
   "execution_count": 30,
   "id": "bd5bd68a",
   "metadata": {
    "scrolled": true
   },
   "outputs": [
    {
     "name": "stdout",
     "output_type": "stream",
     "text": [
      "0 file downloaded successfully.\n",
      "1 file downloaded successfully.\n",
      "2 file downloaded successfully.\n",
      "3 file downloaded successfully.\n",
      "4 file downloaded successfully.\n",
      "5 file downloaded successfully.\n",
      "6 file downloaded successfully.\n",
      "7 file downloaded successfully.\n",
      "8 file downloaded successfully.\n",
      "9 file downloaded successfully.\n",
      "10 file downloaded successfully.\n",
      "11 file downloaded successfully.\n",
      "12 file downloaded successfully.\n",
      "13 file downloaded successfully.\n",
      "14 file downloaded successfully.\n",
      "15 file downloaded successfully.\n",
      "16 file downloaded successfully.\n",
      "17 file downloaded successfully.\n",
      "18 file downloaded successfully.\n",
      "19 file downloaded successfully.\n",
      "20 file downloaded successfully.\n",
      "21 file downloaded successfully.\n",
      "22 file downloaded successfully.\n",
      "23 file downloaded successfully.\n",
      "24 file downloaded successfully.\n",
      "25 file downloaded successfully.\n",
      "26 file downloaded successfully.\n",
      "27 file downloaded successfully.\n",
      "28 file downloaded successfully.\n",
      "29 file downloaded successfully.\n",
      "30 file downloaded successfully.\n",
      "31 file downloaded successfully.\n",
      "32 file downloaded successfully.\n",
      "33 file downloaded successfully.\n",
      "34 file downloaded successfully.\n",
      "35 file downloaded successfully.\n",
      "36 file downloaded successfully.\n",
      "37 file downloaded successfully.\n",
      "38 file downloaded successfully.\n",
      "39 file downloaded successfully.\n",
      "40 file downloaded successfully.\n",
      "41 file downloaded successfully.\n",
      "42 file downloaded successfully.\n",
      "43 file downloaded successfully.\n",
      "44 file downloaded successfully.\n",
      "45 file downloaded successfully.\n",
      "46 file downloaded successfully.\n",
      "47 file downloaded successfully.\n",
      "48 file downloaded successfully.\n",
      "49 file downloaded successfully.\n",
      "50 file downloaded successfully.\n"
     ]
    },
    {
     "ename": "FileNotFoundError",
     "evalue": "[Errno 2] No such file or directory: 'thesis/‘आलुप्याज/प्याजआलु’ कथासङ्ग्रहको विधातात्विक विश्लेषण {Aalupyaj / Pyajaalu Kathasangrahako Bidhatatwik Bisleshan}.pdf'",
     "output_type": "error",
     "traceback": [
      "\u001b[1;31m---------------------------------------------------------------------------\u001b[0m",
      "\u001b[1;31mFileNotFoundError\u001b[0m                         Traceback (most recent call last)",
      "Cell \u001b[1;32mIn[30], line 16\u001b[0m\n\u001b[0;32m     14\u001b[0m     pdf_url \u001b[38;5;241m=\u001b[39m base_url\u001b[38;5;241m+\u001b[39mthesis_link[\u001b[38;5;124m'\u001b[39m\u001b[38;5;124mhref\u001b[39m\u001b[38;5;124m'\u001b[39m]\n\u001b[0;32m     15\u001b[0m     pdf_name \u001b[38;5;241m=\u001b[39m names[i]\n\u001b[1;32m---> 16\u001b[0m     \u001b[43mpdf_downloader\u001b[49m\u001b[43m(\u001b[49m\u001b[43mpdf_url\u001b[49m\u001b[43m,\u001b[49m\u001b[43mpdf_name\u001b[49m\u001b[43m,\u001b[49m\u001b[43mi\u001b[49m\u001b[43m)\u001b[49m\n\u001b[0;32m     17\u001b[0m \u001b[38;5;66;03m# response = requests.get(pdf_url)/\u001b[39;00m\n\u001b[0;32m     18\u001b[0m \n\u001b[0;32m     19\u001b[0m \u001b[38;5;66;03m# if response.status_code == 200:\u001b[39;00m\n\u001b[1;32m   (...)\u001b[0m\n\u001b[0;32m     24\u001b[0m \u001b[38;5;66;03m# else:\u001b[39;00m\n\u001b[0;32m     25\u001b[0m \u001b[38;5;66;03m#     print(\"Failed to download the PDF file.\")\u001b[39;00m\n",
      "Cell \u001b[1;32mIn[29], line 7\u001b[0m, in \u001b[0;36mpdf_downloader\u001b[1;34m(pdf_url, pdf_name, i)\u001b[0m\n\u001b[0;32m      4\u001b[0m \u001b[38;5;66;03m# Check if the request was successful\u001b[39;00m\n\u001b[0;32m      5\u001b[0m \u001b[38;5;28;01mif\u001b[39;00m response\u001b[38;5;241m.\u001b[39mstatus_code \u001b[38;5;241m==\u001b[39m \u001b[38;5;241m200\u001b[39m:\n\u001b[0;32m      6\u001b[0m     \u001b[38;5;66;03m# Save the PDF file\u001b[39;00m\n\u001b[1;32m----> 7\u001b[0m     \u001b[38;5;28;01mwith\u001b[39;00m \u001b[38;5;28;43mopen\u001b[39;49m\u001b[43m(\u001b[49m\u001b[38;5;124;43mf\u001b[39;49m\u001b[38;5;124;43m'\u001b[39;49m\u001b[38;5;124;43mthesis/\u001b[39;49m\u001b[38;5;132;43;01m{\u001b[39;49;00m\u001b[43mpdf_name\u001b[49m\u001b[38;5;132;43;01m}\u001b[39;49;00m\u001b[38;5;124;43m.pdf\u001b[39;49m\u001b[38;5;124;43m'\u001b[39;49m\u001b[43m,\u001b[49m\u001b[43m \u001b[49m\u001b[38;5;124;43m'\u001b[39;49m\u001b[38;5;124;43mwb\u001b[39;49m\u001b[38;5;124;43m'\u001b[39;49m\u001b[43m)\u001b[49m \u001b[38;5;28;01mas\u001b[39;00m file:\n\u001b[0;32m      8\u001b[0m         file\u001b[38;5;241m.\u001b[39mwrite(response\u001b[38;5;241m.\u001b[39mcontent)\n\u001b[0;32m      9\u001b[0m         \u001b[38;5;28mprint\u001b[39m(\u001b[38;5;124mf\u001b[39m\u001b[38;5;124m'\u001b[39m\u001b[38;5;132;01m{\u001b[39;00mi\u001b[38;5;132;01m}\u001b[39;00m\u001b[38;5;124m file downloaded successfully.\u001b[39m\u001b[38;5;124m'\u001b[39m)\n",
      "File \u001b[1;32m~\\AppData\\Roaming\\Python\\Python310\\site-packages\\IPython\\core\\interactiveshell.py:282\u001b[0m, in \u001b[0;36m_modified_open\u001b[1;34m(file, *args, **kwargs)\u001b[0m\n\u001b[0;32m    275\u001b[0m \u001b[38;5;28;01mif\u001b[39;00m file \u001b[38;5;129;01min\u001b[39;00m {\u001b[38;5;241m0\u001b[39m, \u001b[38;5;241m1\u001b[39m, \u001b[38;5;241m2\u001b[39m}:\n\u001b[0;32m    276\u001b[0m     \u001b[38;5;28;01mraise\u001b[39;00m \u001b[38;5;167;01mValueError\u001b[39;00m(\n\u001b[0;32m    277\u001b[0m         \u001b[38;5;124mf\u001b[39m\u001b[38;5;124m\"\u001b[39m\u001b[38;5;124mIPython won\u001b[39m\u001b[38;5;124m'\u001b[39m\u001b[38;5;124mt let you open fd=\u001b[39m\u001b[38;5;132;01m{\u001b[39;00mfile\u001b[38;5;132;01m}\u001b[39;00m\u001b[38;5;124m by default \u001b[39m\u001b[38;5;124m\"\u001b[39m\n\u001b[0;32m    278\u001b[0m         \u001b[38;5;124m\"\u001b[39m\u001b[38;5;124mas it is likely to crash IPython. If you know what you are doing, \u001b[39m\u001b[38;5;124m\"\u001b[39m\n\u001b[0;32m    279\u001b[0m         \u001b[38;5;124m\"\u001b[39m\u001b[38;5;124myou can use builtins\u001b[39m\u001b[38;5;124m'\u001b[39m\u001b[38;5;124m open.\u001b[39m\u001b[38;5;124m\"\u001b[39m\n\u001b[0;32m    280\u001b[0m     )\n\u001b[1;32m--> 282\u001b[0m \u001b[38;5;28;01mreturn\u001b[39;00m io_open(file, \u001b[38;5;241m*\u001b[39margs, \u001b[38;5;241m*\u001b[39m\u001b[38;5;241m*\u001b[39mkwargs)\n",
      "\u001b[1;31mFileNotFoundError\u001b[0m: [Errno 2] No such file or directory: 'thesis/‘आलुप्याज/प्याजआलु’ कथासङ्ग्रहको विधातात्विक विश्लेषण {Aalupyaj / Pyajaalu Kathasangrahako Bidhatatwik Bisleshan}.pdf'"
     ]
    }
   ],
   "source": [
    "for i in range(len(links)):\n",
    "    pdf_link = base_url+links[i]\n",
    "    r1  = requests.get(pdf_link)\n",
    "    soup1 = BeautifulSoup(r1.content,'html.parser')\n",
    "    header_div = soup1.find('div',class_ =\"panel panel-info\")\n",
    "    table_pdf = header_div.find('table')\n",
    "    count = len(table_pdf.find_all('tr'))\n",
    "    rows = table_pdf.find_all('td',headers = 't1')\n",
    "    file_ext = table.find_all('td',headers = 't4')\n",
    "    thesis_link = rows[-1].find('a')\n",
    "    file_ext = table_pdf.find_all('td',headers='t4')\n",
    "  #print(thesis_link)\n",
    "    pdf_file = file_ext[-1].get_text()\n",
    "    pdf_url = base_url+thesis_link['href']\n",
    "    pdf_name = names[i]\n",
    "    \n",
    "    pdf_downloader(pdf_url,pdf_name,i,pdf_file)\n",
    "# response = requests.get(pdf_url)/\n",
    "\n",
    "# if response.status_code == 200:\n",
    "#     # Save the PDF file\n",
    "#     with open('downloaded_file.pdf', 'wb') as file:\n",
    "#         file.write(response.content)\n",
    "#         print(\"PDF file downloaded successfully.\")\n",
    "# else:\n",
    "#     print(\"Failed to download the PDF file.\")\n"
   ]
  },
  {
   "cell_type": "code",
   "execution_count": 39,
   "id": "4a809fe7",
   "metadata": {},
   "outputs": [],
   "source": [
    "\n",
    "# Send a GET request to download the PDF file\n",
    "def pdf_downloader(pdf_url,pdf_name,i,file_ext):\n",
    "    response = requests.get(pdf_url)\n",
    "    # Check if the request was successful\n",
    "    if response.status_code == 200:\n",
    "        # Save the PDF file\n",
    "        if(file_ext == 'Adobe PDF'):\n",
    "            try:\n",
    "                with open(f'thesis/{pdf_name}.pdf', 'wb') as file:\n",
    "                    file.write(response.content)\n",
    "                    print(f'{i} file downloaded successfully.')\n",
    "            except FileNotFoundError:\n",
    "                # Handle the FileNotFoundError\n",
    "                print(\"File not found. Please check the file path.\")\n",
    "            except Exception as e:\n",
    "                print(\"An error occurred:\", str(e))\n",
    "        else:\n",
    "            print(\"Pdf is not downloading\")"
   ]
  },
  {
   "cell_type": "code",
   "execution_count": 33,
   "id": "edb46465",
   "metadata": {},
   "outputs": [
    {
     "name": "stdout",
     "output_type": "stream",
     "text": [
      "51 file downloaded successfully.\n"
     ]
    }
   ],
   "source": [
    "pdf_downloader('https://elibrary.tucl.edu.np/handle/123456789/15456','me',51)"
   ]
  },
  {
   "cell_type": "code",
   "execution_count": 24,
   "id": "b05c5b87",
   "metadata": {},
   "outputs": [
    {
     "name": "stdout",
     "output_type": "stream",
     "text": [
      "write sucessfully\n"
     ]
    }
   ],
   "source": [
    "tetx  = \"Hello from folder inside\"\n",
    "title = 'me'\n",
    "\n",
    "with open(f'thesis/{title}.txt','w') as f:\n",
    "    f.write(tetx)\n",
    "    print(\"write sucessfully\")"
   ]
  },
  {
   "cell_type": "code",
   "execution_count": 38,
   "id": "fe345094",
   "metadata": {},
   "outputs": [
    {
     "name": "stdout",
     "output_type": "stream",
     "text": [
      "Adobe PDF\n"
     ]
    }
   ],
   "source": [
    "r1 = requests.get('https://elibrary.tucl.edu.np//handle/123456789/13575')\n",
    "soup1 = BeautifulSoup(r1.content,'html.parser')\n",
    "header_div = soup1.find('div',class_ =\"panel panel-info\")\n",
    "table_pdf = header_div.find('table')\n",
    "count = len(table_pdf.find_all('tr'))\n",
    "rows = table_pdf.find_all('td',headers = 't1')\n",
    "file_ext = table_pdf.find_all('td',headers='t4')\n",
    "# print(rows[-1])\n",
    "print(file_ext[-1].get_text())\n"
   ]
  },
  {
   "cell_type": "code",
   "execution_count": null,
   "id": "6a3bdb44",
   "metadata": {},
   "outputs": [],
   "source": []
  }
 ],
 "metadata": {
  "kernelspec": {
   "display_name": "Python 3 (ipykernel)",
   "language": "python",
   "name": "python3"
  },
  "language_info": {
   "codemirror_mode": {
    "name": "ipython",
    "version": 3
   },
   "file_extension": ".py",
   "mimetype": "text/x-python",
   "name": "python",
   "nbconvert_exporter": "python",
   "pygments_lexer": "ipython3",
   "version": "3.10.9"
  }
 },
 "nbformat": 4,
 "nbformat_minor": 5
}
