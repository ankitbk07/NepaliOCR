{
 "cells": [
  {
   "cell_type": "code",
   "execution_count": null,
   "id": "7b1a2bd1",
   "metadata": {},
   "outputs": [],
   "source": [
    "# import os\n",
    "# import fitz\n",
    "# from PIL import Image\n",
    "# import pytesseract\n",
    "# import io"
   ]
  },
  {
   "cell_type": "code",
   "execution_count": null,
   "id": "c7929a44",
   "metadata": {},
   "outputs": [],
   "source": [
    "# custom_config = r'-l nep --oem 3 --psm 6'\n",
    "# pytesseract.pytesseract.tesseract_cmd = r'C:\\Program Files\\Tesseract-OCR\\tesseract.exe'"
   ]
  },
  {
   "cell_type": "code",
   "execution_count": null,
   "id": "c597a1ae",
   "metadata": {},
   "outputs": [],
   "source": [
    "# import time\n",
    "\n",
    "# def measure_time(func):\n",
    "#     def wrapper(*args, **kwargs):\n",
    "#         start_time = time.time()  # Record the start time\n",
    "#         result = func(*args, **kwargs)  # Execute the function\n",
    "#         end_time = time.time()  # Record the end time\n",
    "#         execution_time = end_time - start_time  # Calculate the execution time\n",
    "#         print(f\"Function '{func.__name__}' took {execution_time:.6f} seconds to run.\")\n",
    "#         return result\n",
    "#     return wrapper"
   ]
  },
  {
   "cell_type": "code",
   "execution_count": null,
   "id": "8a800283",
   "metadata": {},
   "outputs": [],
   "source": [
    "# @measure_time\n",
    "# # Function to convert PDF to image\n",
    "# def pdf_to_image(pdf_file, dpi=150):\n",
    "#     # Open the PDF file\n",
    "#     pdf = fitz.open(pdf_file)\n",
    "#     # Get the current page\n",
    "#     for i in range(pdf.page_count):\n",
    "#         page = pdf[i]\n",
    "#         # Render the page to an image\n",
    "#         pix = page.get_pixmap(dpi=dpi, alpha=False)\n",
    "#         byte_obj = pix.pil_tobytes(format=\"png\", optimize=True)\n",
    "#         img = Image.open(io.BytesIO(byte_obj))\n",
    "#         text = pytesseract.image_to_string(img, config=custom_config)\n",
    "#         print(f'page {i}')\n",
    "#         with open('file2.txt', mode = 'a',encoding=\"utf-8\") as f:\n",
    "#             f.write(text)\n",
    "#     # Close the PDF file\n",
    "#     pdf.close()\n",
    "\n",
    "# # Convert the PDF to images\n",
    "# pdf_to_image(\"AllThesis.pdf\")"
   ]
  },
  {
   "cell_type": "code",
   "execution_count": null,
   "id": "be8d2f79",
   "metadata": {},
   "outputs": [],
   "source": [
    "# import time\n",
    "\n",
    "# def measure_time(func):\n",
    "#     def wrapper(*args, **kwargs):\n",
    "#         start_time = time.time()  # Record the start time\n",
    "#         result = func(*args, **kwargs)  # Execute the function\n",
    "#         end_time = time.time()  # Record the end time\n",
    "#         execution_time = end_time - start_time  # Calculate the execution time\n",
    "#         print(f\"Function '{func.__name__}' took {execution_time:.6f} seconds to run.\")\n",
    "#         return result\n",
    "#     return wrapper\n"
   ]
  },
  {
   "cell_type": "code",
   "execution_count": null,
   "id": "4cddf5db",
   "metadata": {},
   "outputs": [],
   "source": [
    "#next time convert the all the pdf to images and extract the page to get the text file. "
   ]
  },
  {
   "cell_type": "code",
   "execution_count": null,
   "id": "e534abbf",
   "metadata": {},
   "outputs": [],
   "source": [
    "# @measure_time\n",
    "# def pdf_to_text(pdf_folder, text_folder, dpi=300):\n",
    "#     # Iterate over all PDF files in the specified folder\n",
    "#     for filename in os.listdir(pdf_folder):\n",
    "#         if filename.endswith('.pdf'):\n",
    "#             # Construct the full path of the PDF file\n",
    "#             pdf_file = os.path.join(pdf_folder, filename)\n",
    "\n",
    "#             # Open the PDF file\n",
    "#             pdf = fitz.open(pdf_file)\n",
    "\n",
    "#             # Create a text file name based on the PDF file name\n",
    "#             text_filename = os.path.splitext(filename)[0] + '.txt'\n",
    "#             # Construct the full path of the text file\n",
    "#             text_file = os.path.join(text_folder, text_filename)\n",
    "\n",
    "#             # Get the current page\n",
    "#             for i in range(pdf.page_count):\n",
    "#                 page = pdf[i]\n",
    "#                 # Render the page to an image\n",
    "#                 pix = page.get_pixmap(dpi=dpi, alpha=False)\n",
    "#                 byte_obj = pix.pil_tobytes(format=\"png\", optimize=True)\n",
    "#                 img = Image.open(io.BytesIO(byte_obj))\n",
    "#                 text = pytesseract.image_to_string(img, config=custom_config)\n",
    "\n",
    "#                 # Append the extracted text to the text file\n",
    "#                 with open(text_file, mode='a', encoding=\"utf-8\") as f:\n",
    "#                     f.write(text)\n",
    "\n",
    "#             # Close the PDF file\n",
    "#             pdf.close()\n",
    "#             print(f'{filename} is completed')\n",
    "            \n",
    "# pdf_to_text('thesis_1','thesis_txt')\n"
   ]
  },
  {
   "cell_type": "code",
   "execution_count": 1,
   "id": "145c82c1",
   "metadata": {},
   "outputs": [],
   "source": [
    "import os\n",
    "import fitz\n",
    "from PIL import Image\n",
    "import pytesseract\n",
    "import io\n",
    "from concurrent.futures import ThreadPoolExecutor\n",
    "import time\n",
    "\n",
    "custom_config = r'-l nep --oem 3 --psm 6'\n",
    "pytesseract.pytesseract.tesseract_cmd = r'C:\\Program Files\\Tesseract-OCR\\tesseract.exe'\n",
    "\n",
    "\n",
    "# def measure_time(func):\n",
    "#     def wrapper(args, **kwargs):\n",
    "#         start_time = time.time()  # Record the start time\n",
    "#         result = func(args, **kwargs)  # Execute the function\n",
    "#         end_time = time.time()  # Record the end time\n",
    "#         execution_time = end_time - start_time  # Calculate the execution time\n",
    "#         print(f\"Function '{func.name}' took {execution_time:.6f} seconds to run.\")\n",
    "#         return result\n",
    "\n",
    "#     return wrapper\n",
    "\n",
    "\n",
    "def process_page(page, dpi=300):\n",
    "    # Render the page to an image\n",
    "    pix = page.get_pixmap(dpi=dpi, alpha=False)\n",
    "    byte_obj = pix.pil_tobytes(format=\"jpeg\", optimize=True)\n",
    "    img = Image.open(io.BytesIO(byte_obj))\n",
    "#     print(img)\n",
    "    text = pytesseract.image_to_string(img, config=custom_config)\n",
    "    return text\n",
    "\n"
   ]
  },
  {
   "cell_type": "code",
   "execution_count": 2,
   "id": "f54adddb",
   "metadata": {},
   "outputs": [
    {
     "name": "stdout",
     "output_type": "stream",
     "text": [
      "PDF to text conversion completed: thesis_1\\विष्णु सुवेदीको जीवनी, व्यक्तित्व र कृतित्वको अध्ययन{Bisnu Subediko Jibani, Byaktitwa ra Krititwako Adhyayan}.pdf -> thesis_txt_1\\विष्णु सुवेदीको जीवनी, व्यक्तित्व र कृतित्वको अध्ययन{Bisnu Subediko Jibani, Byaktitwa ra Krititwako Adhyayan}.txt\n"
     ]
    }
   ],
   "source": [
    "# @measure_time\n",
    "def pdf_to_text(pdf_folder, text_folder, dpi=150, num_threads=4):\n",
    "    for filename in os.listdir(pdf_folder):\n",
    "        if filename.endswith('.pdf'):\n",
    "            # Construct the full path of the PDF file\n",
    "            pdf_file = os.path.join(pdf_folder, filename)\n",
    "    # Open the PDF file\n",
    "    pdf = fitz.open(pdf_file)\n",
    "    # Create a text file name based on the PDF file name\n",
    "    text_filename = os.path.splitext(filename)[0] + '.txt'\n",
    "    # Construct the full path of the text file\n",
    "    text_file = os.path.join(text_folder, text_filename)\n",
    "\n",
    "    # Create a list to store the results for each page\n",
    "    page_results = []\n",
    "\n",
    "    # Get the current page\n",
    "    with ThreadPoolExecutor(max_workers=num_threads) as executor:\n",
    "        # Process each page concurrently\n",
    "        futures = [executor.submit(process_page, page, dpi) for page in pdf]\n",
    "\n",
    "        # Gather the results of each page\n",
    "        for future in futures:\n",
    "            page_results.append(future.result())\n",
    "\n",
    "    # Close the PDF file\n",
    "    pdf.close()\n",
    "\n",
    "    # Write the results to the text file in the correct order\n",
    "    with open(text_file, mode='w', encoding=\"utf-8\") as f:\n",
    "        for result in page_results:\n",
    "            f.write(result)\n",
    "\n",
    "    print(f\"PDF to text conversion completed: {pdf_file} -> {text_file}\")\n",
    "\n",
    "\n",
    "pdf_to_text('thesis_1', 'thesis_txt_1')"
   ]
  }
 ],
 "metadata": {
  "kernelspec": {
   "display_name": "Python 3 (ipykernel)",
   "language": "python",
   "name": "python3"
  },
  "language_info": {
   "codemirror_mode": {
    "name": "ipython",
    "version": 3
   },
   "file_extension": ".py",
   "mimetype": "text/x-python",
   "name": "python",
   "nbconvert_exporter": "python",
   "pygments_lexer": "ipython3",
   "version": "3.11.4"
  }
 },
 "nbformat": 4,
 "nbformat_minor": 5
}
