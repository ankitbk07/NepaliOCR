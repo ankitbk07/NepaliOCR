{
 "cells": [
  {
   "cell_type": "code",
   "execution_count": 122,
   "id": "6687ff84",
   "metadata": {
    "scrolled": true
   },
   "outputs": [
    {
     "name": "stdout",
     "output_type": "stream",
     "text": [
      "200\n"
     ]
    },
    {
     "name": "stderr",
     "output_type": "stream",
     "text": [
      "Some characters could not be decoded, and were replaced with REPLACEMENT CHARACTER.\n"
     ]
    },
    {
     "name": "stdout",
     "output_type": "stream",
     "text": [
      "None\n"
     ]
    }
   ],
   "source": [
    "import os\n",
    "import requests\n",
    "from bs4 import BeautifulSoup\n",
    "\n",
    "# URL of the website to scrape\n",
    "url = 'https://elibrary.tucl.edu.np/handle/123456789/12/simple-search?query=&filter_field_1=instituteName&filter_type_1=equals&filter_value_1=Central+Department+of+Nepali&filter_field_2=dateIssued&filter_type_2=equals&filter_value_2=%5B2010+TO+2019%5D&filter_field_3=subject&filter_type_3=equals&filter_value_3=%E0%A4%A8%E0%A5%87%E0%A4%AA%E0%A4%BE%E0%A4%B2%E0%A5%80+%E0%A4%B8%E0%A4%BE%E0%A4%B9%E0%A4%BF%E0%A4%A4%E0%A5%8D%E0%A4%AF+Nepali+sahitya&sort_by=score&order=desc&rpp=10&etal=0&start=10'\n",
    "# Send a GET request to the URL\n",
    "r = requests.get(url)\n",
    "print(r.status_code)\n",
    "htmlContent = response.content\n",
    "\n",
    "soup= BeautifulSoup(htmlContent, 'html.parser')\n",
    "\n",
    "# print(soup.prettify)\n",
    "\n",
    "thesis_table = soup.find('table',class_ = \"table\")\n",
    "# rows = thesis_table.find_all('td',headers= 't3')\n",
    "links =[]\n",
    "# for row in rows:\n",
    "#     a_link = row.find('a')\n",
    "#     links.append(a_link['href'])\n",
    "\n",
    "\n",
    "print(thesis_table)\n",
    "\n",
    "# for row in thesis_table.find_all('td',class_ = 't3'):\n",
    "#     print(row)\n",
    "\n",
    "# print(row)\n",
    "# for row in rows:\n",
    "#     td = row.find_all('td',class_ = 't3')\n",
    "\n",
    "# for thesis in thesis_table.find_all('tbody'):\n",
    "#     rows = thesis.find_all('tr')\n",
    "#     for row in rows:"
   ]
  },
  {
   "cell_type": "code",
   "execution_count": 77,
   "id": "80134f1e",
   "metadata": {},
   "outputs": [
    {
     "data": {
      "text/plain": [
       "'https://elibrary.tucl.edu.np//handle/123456789/13620'"
      ]
     },
     "execution_count": 77,
     "metadata": {},
     "output_type": "execute_result"
    }
   ],
   "source": [
    "\n",
    "url1 = base_url+links[0]\n",
    "url1\n",
    "'https://elibrary.tucl.edu.np//handle/123456789/13620'"
   ]
  },
  {
   "cell_type": "code",
   "execution_count": 120,
   "id": "bd5bd68a",
   "metadata": {
    "scrolled": true
   },
   "outputs": [
    {
     "name": "stdout",
     "output_type": "stream",
     "text": [
      "PDF file downloaded successfully.\n"
     ]
    }
   ],
   "source": [
    "r1  = requests.get('https://elibrary.tucl.edu.np/handle/123456789/13575')\n",
    "soup1 = BeautifulSoup(r1.content,'html.parser')\n",
    "header_div = soup1.find('div',class_ =\"panel panel-info\")\n",
    "table_pdf = header_div.find('table')\n",
    "rows = table_pdf.find_all('td',headers = 't1')\n",
    "thesis_link = rows[0].find('a')\n",
    "pdf_url = base_url+thesis_link['href']\n",
    "response = requests.get(pdf_url)\n",
    "if response.status_code == 200:\n",
    "    # Save the PDF file\n",
    "    with open('downloaded_file.pdf', 'wb') as file:\n",
    "        file.write(response.content)\n",
    "        print(\"PDF file downloaded successfully.\")\n",
    "else:\n",
    "    print(\"Failed to download the PDF file.\")\n"
   ]
  },
  {
   "cell_type": "code",
   "execution_count": null,
   "id": "4a809fe7",
   "metadata": {},
   "outputs": [],
   "source": [
    "\n",
    "# Send a GET request to download the PDF file\n",
    "response = requests.get(pdf_url)\n",
    "\n",
    "# Check if the request was successful\n",
    "if response.status_code == 200:\n",
    "    # Save the PDF file\n",
    "    with open('downloaded_file.pdf', 'wb') as file:\n",
    "        file.write(response.content)\n",
    "        print(\"PDF file downloaded successfully.\")\n",
    "else:\n",
    "    print(\"Failed to download the PDF file.\")"
   ]
  },
  {
   "cell_type": "code",
   "execution_count": null,
   "id": "edb46465",
   "metadata": {},
   "outputs": [],
   "source": []
  }
 ],
 "metadata": {
  "kernelspec": {
   "display_name": "Python 3 (ipykernel)",
   "language": "python",
   "name": "python3"
  },
  "language_info": {
   "codemirror_mode": {
    "name": "ipython",
    "version": 3
   },
   "file_extension": ".py",
   "mimetype": "text/x-python",
   "name": "python",
   "nbconvert_exporter": "python",
   "pygments_lexer": "ipython3",
   "version": "3.10.9"
  }
 },
 "nbformat": 4,
 "nbformat_minor": 5
}
